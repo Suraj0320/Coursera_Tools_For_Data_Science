{
 "cells": [
  {
   "cell_type": "markdown",
   "id": "87e72eca",
   "metadata": {},
   "source": [
    "# Data Science Tools and Ecosystem"
   ]
  },
  {
   "cell_type": "markdown",
   "id": "482a1209",
   "metadata": {},
   "source": [
    "In This Ecosystem Data Science Tools are Sumarized"
   ]
  },
  {
   "cell_type": "markdown",
   "id": "75540b95",
   "metadata": {},
   "source": [
    "Some of Popular language in Data Science are:\n",
    "    \n",
    "    1.Python\n",
    "    2.R\n",
    "    3.SQL\n",
    "    4.C\n",
    "    5.Java\n",
    "    6.Javascript"
   ]
  },
  {
   "cell_type": "markdown",
   "id": "36400b8f",
   "metadata": {},
   "source": [
    "Some of the commonly used libraries used by Data Scientist include:\n",
    "1. SQLite\n",
    "2. Pandas\n",
    "3. Numpy\n",
    "4. ggplot\n",
    "5. Plotly"
   ]
  },
  {
   "cell_type": "markdown",
   "id": "87a56bed",
   "metadata": {},
   "source": [
    "Data Science Tools\n",
    "1. Jupyter Notebook\n",
    "2. R Studio\n",
    "3. Spyder"
   ]
  },
  {
   "cell_type": "markdown",
   "id": "a02024f7",
   "metadata": {},
   "source": [
    "#### Below are a few examples of evaluating arthmetic expression in python"
   ]
  },
  {
   "cell_type": "code",
   "execution_count": 1,
   "id": "c7e4608a",
   "metadata": {},
   "outputs": [
    {
     "data": {
      "text/plain": [
       "17"
      ]
     },
     "execution_count": 1,
     "metadata": {},
     "output_type": "execute_result"
    }
   ],
   "source": [
    "#Below are a few examples of evaluating arthmetic expression in python\n",
    "(3*4)+5"
   ]
  },
  {
   "cell_type": "code",
   "execution_count": 2,
   "id": "b1e9c28f",
   "metadata": {},
   "outputs": [
    {
     "data": {
      "text/plain": [
       "3.3333333333333335"
      ]
     },
     "execution_count": 2,
     "metadata": {},
     "output_type": "execute_result"
    }
   ],
   "source": [
    "# This will convert 200 minutes to hours by dividing by 60\n",
    "200/60"
   ]
  },
  {
   "cell_type": "markdown",
   "id": "56a085b9",
   "metadata": {},
   "source": [
    "##### Objectives\n",
    "\n",
    "1. Popular data Science Language\n",
    "2. Popular data Science Libraries\n",
    "3. Examples of using variables that in markdown cell\n",
    "4. Example of Arithmetic calculations"
   ]
  },
  {
   "cell_type": "markdown",
   "id": "ba31f5ce",
   "metadata": {},
   "source": [
    "##### Author\n",
    "Suraj Shinde Patil"
   ]
  },
  {
   "cell_type": "code",
   "execution_count": null,
   "id": "7e41ba6d",
   "metadata": {},
   "outputs": [],
   "source": []
  }
 ],
 "metadata": {
  "kernelspec": {
   "display_name": "Python 3 (ipykernel)",
   "language": "python",
   "name": "python3"
  },
  "language_info": {
   "codemirror_mode": {
    "name": "ipython",
    "version": 3
   },
   "file_extension": ".py",
   "mimetype": "text/x-python",
   "name": "python",
   "nbconvert_exporter": "python",
   "pygments_lexer": "ipython3",
   "version": "3.9.7"
  }
 },
 "nbformat": 4,
 "nbformat_minor": 5
}
